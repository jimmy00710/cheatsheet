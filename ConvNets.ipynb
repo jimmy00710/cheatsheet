{
 "cells": [
  {
   "cell_type": "markdown",
   "metadata": {},
   "source": [
    "<img src=\"https://miro.medium.com/max/1000/1*vkQ0hXDaQv57sALXAJquxA.jpeg\"> "
   ]
  },
  {
   "cell_type": "markdown",
   "metadata": {},
   "source": [
    "A <b> Convolutional Neural Network </b> is Deep Learning algorithm which can take in an input image, assign importance learnable features to various objects in image and be able to differentiate one from other.\n",
    "\n",
    "<br>\n",
    "    \n",
    "The preprocessing required in a ConvNet is much lower as compared to other classification algo. "
   ]
  },
  {
   "cell_type": "markdown",
   "metadata": {},
   "source": [
    "Q. Why traditional algorithm and MLP don't work that well compare to CNN ? <br>\n",
    "\n",
    "A.  Traditional algorithm can't find the deep features or complex relation between the data. Along with this, since before feeding the data we will be flatteing the data. <b><i> This flatten data will remove the spatial information from the image. </b></i> <br>\n",
    "\n",
    "MLPs(Multilayer Perceptron) in simple terms are fully connected layers. They use one perceptron for each input and the amount of weights rapidly becomes unmanageable for large images. It includes too many parameters because it is fully connected. Each node is connected to every other node in next and previous layer, forming a very dense web- resulting in <b><i> redundancy and inefficiency </b></i>. As a result, difficulties arise whilst training and overfitting can occur which make it lose the ability to generalize. <br>\n",
    "\n",
    "Another problem is that MLPs react differently to an input and its shifted version- they are not <b><i> translation invariant. </b></i>. \n",
    "For example, if a picture of a cat appears in the top left of the image in one picture and the bottom right of another picture, the MLP will try to correct itself and assume that a cat will always appear in this section of image.<br>\n",
    "\n",
    "Hence, MLPs are not the best idea to use for image processing. One of the main problems is that spatial information is lost when the image is flattened(matrix to vector) into an MLP. <br>\n",
    "\n",
    "\n",
    "So there are 3 problems - \n",
    "> Redundancy of features <br>\n",
    "> Translation Invariant <br>\n",
    "> Spatial Information <br>\n",
    "\n",
    "<br> \n",
    "\n",
    "The CNN solve all these three problems in the following way- <br> \n",
    "\n",
    "Spatial Information - Due to CNN structure, they develop an internal representation of a two dimensional image. This allows the model to learn position and scale in-variant structure in the data, which is important when working with images.<br>\n",
    "\n",
    "Translation Invariant - Due to Convolution operation, the CNN tends to find the <b><i> local connectivity </b></i>.  in an image according to certain size and stride, allows the filter to find and match patterns no matter where the pattern is located in a given image.\n",
    "\n",
    "Redundancy - The weights are smaller and shared- less wastefulm easier to train than MLP and more effective too. Layers are sparsely connected rather than fully connected. <br> \n",
    "\n",
    "\n",
    "CNN’s leverage the fact that nearby pixels are more strongly related than distant ones. <br>\n",
    "\n",
    "We analyze the influence of nearby pixels by using something called a filter /Kernel and we move this across the image from top left to bottom right. For each point on the image, a value is calculated based on the filter using a convolution operation.\n",
    "A filter could be related to anything, for pictures of humans, one filter could be associated with seeing noses, and our nose filter would give us an indication of how strongly a nose seems to appear in our image, and how many times and in what locations they occur. This reduces the number of weights that the neural network must learn compared to an MLP, and also means that when the location of these features changes it does not throw the neural network off.\n",
    "The panning of filters (you can set the stride and filter size) in CNN essentially allows parameter sharing, weight sharing so that the filter looks for a specific pattern, and is location invariant — can find the pattern anywhere in an image. This is very useful for object detection. Patterns can be discovered in more than one part of the image.<br>\n",
    "\n",
    "Additionally, it can also find the similar pattern even if the object is somewhat rotated/tilted using a concept called Pooling, which makes CNN more robust to changes in the position of the feature in the image, referred to by the technical phrase <b><i>“local translation\n",
    "invariance.”</b></i>\n",
    "\n",
    "<img src=\"https://miro.medium.com/max/700/1*Jfe-3pG2sJ8P0GJKWIkhCQ.png\">\n",
    "\n",
    "<a href=\"https://medium.com/analytics-vidhya/cnn-convolutional-neural-network-8d0a292b4498\"> Reference </a> <br>\n",
    "\n",
    "<a href=\"https://towardsdatascience.com/a-comprehensive-guide-to-convolutional-neural-networks-the-eli5-way-3bd2b1164a53\">Ref2</a> <br>\n",
    "\n",
    "<b> <i> Refer - Andrew Ng video on Convlution Operation to understand how Convolution operations helps fight local translation invariance </b></i>"
   ]
  },
  {
   "cell_type": "markdown",
   "metadata": {},
   "source": [
    "## How to build a simple Convlutional Neural Block"
   ]
  },
  {
   "cell_type": "markdown",
   "metadata": {},
   "source": [
    "> Input Layer <br>\n",
    "> Conv Layer <br> \n",
    "> Activation Layer <br>\n",
    "> Pooling Layer <br> \n",
    "> Batch norm <br> \n",
    "> Dropout <br> \n",
    "> Flatten <br>\n",
    "> Dense/Full connected Layer<br>\n",
    "> Activation"
   ]
  },
  {
   "cell_type": "markdown",
   "metadata": {},
   "source": [
    "### DIfferent Activation Functions and their use Cases-"
   ]
  },
  {
   "cell_type": "markdown",
   "metadata": {},
   "source": [
    "Neural networks performs complex computations in the hidden layers and then transfer the resul to the output layer. The primary purpose of <b><i> Activation Function </b></i> is to introduce non-linear properties in the Neural Network.<br>\n",
    "\n",
    "They convert the linear signals of a node into non-linear output signals to facilitate the learning of high order polynomials that go beyond one degree for deep networks. A unique aspect of Activation Function is <b> they are differentiable </b>.<br>\n",
    "\n",
    "#### Need of Non-Linearity-\n",
    "If activation functions are not applied, the output signal would be a linear function, which is a polynomial of one degree. While it is easy to solve linear equations, they have a limited complexity quotient and hence, have less power to learn complex functional mappings from data. Thus, without AFs, a neural network would be a linear regression model with limited abilities. <br>\n",
    "\n",
    "This is certainly not what we want from a neural network. The task of neural networks is to compute highly complicated calculations. Furthermore, without AFs, neural networks cannot learn and model other complicated data, including images, speech, videos, audio, etc. <br>\n",
    "\n",
    " AFs help neural networks to make sense of complicated, high dimensional, and non-linear Big Data sets that have an intricate architecture – they contain multiple hidden layers in between the input and output layer.\n",
    "\n"
   ]
  },
  {
   "cell_type": "markdown",
   "metadata": {},
   "source": [
    "### Types"
   ]
  },
  {
   "cell_type": "markdown",
   "metadata": {},
   "source": [
    "#####  1. Sigmoid Function\n",
    "In an ANN, the sigmoid function is a non-linear AF used primarily in feedforward neural networks. It is a differentiable real function, defined for real input values, and containing positive derivatives everywhere with a specific degree of smoothness. The sigmoid function appears in the output layer of the deep learning models and is used for predicting probability-based outputs. The sigmoid function is represented as:\n",
    "\n",
    "<img src=\"https://www.upgrad.com/blog/wp-content/uploads/2020/02/screenshot-arxiv.org-2020.02.13-16_46_37.png\">\n",
    "\n",
    "Some of the major drawbacks of the sigmoid function include gradient saturation, slow convergence, sharp damp gradients during backpropagation from within deeper hidden layers to the input layers, and non-zero centered output that causes the gradient updates to propagate in varying directions.\n"
   ]
  },
  {
   "cell_type": "markdown",
   "metadata": {},
   "source": [
    "##### 2. Hyperbolic Tangent Function (Tanh)\n",
    "The hyperbolic tangent function, a.k.a., the tanh function, is another type of AF. It is a smoother, zero-centered function having a range between -1 to 1. As a result, the output of the tanh function is represented by:\n",
    "<img src=\"https://www.upgrad.com/blog/wp-content/uploads/2020/02/screenshot-arxiv.org-2020.02.13-16_48_24.png\">\n",
    "\n",
    "The tanh function is much more extensively used than the sigmoid function since it delivers better training performance for multilayer neural networks. The biggest advantage of the tanh function is that it produces a zero-centered output, thereby supporting the backpropagation process. The tanh function has been mostly used in recurrent neural networks for natural language processing and speech recognition tasks. <br>\n",
    "\n",
    "However, the tanh function, too, has a limitation – just like the sigmoid function, it cannot solve the vanishing gradient problem. Also, the tanh function can only attain a gradient of 1 when the input value is 0 (x is zero). As a result, the function can produce some dead neurons during the computation process."
   ]
  },
  {
   "cell_type": "markdown",
   "metadata": {},
   "source": [
    "###### 3. Softmax Function \n",
    "The softmax function is another type of AF used in neural networks to compute probability distribution from a vector of real numbers. This function generates an output that ranges between values 0 and 1 and with the sum of the probabilities being equal to 1. The softmax function is represented as follows:\n",
    "<img src=\"https://www.upgrad.com/blog/wp-content/uploads/2020/02/screenshot-arxiv.org-2020.02.13-16_48_24.png\">\n",
    "\n",
    "This function is mainly used in multi-class models where it returns probabilities of each class, with the target class having the highest probability. It appears in almost all the output layers of the DL architecture where they are used. The primary difference between the sigmoid and softmax AF is that while the former is used in binary classification, the latter is used for multivariate classification"
   ]
  },
  {
   "cell_type": "markdown",
   "metadata": {},
   "source": [
    "###### 4. Softsign Function\n",
    "The softsign function is another AF that is used in neural network computing. Although it is primarily in regression computation problems, nowadays it is also used in DL based text-to-speech applications. It is a quadratic polynomial, represented by:\n",
    "\n",
    "<img src=\"https://www.upgrad.com/blog/wp-content/uploads/2020/02/screenshot-arxiv.org-2020.02.13-16_51_06.png\">\n",
    "\n",
    "Here “x” equals the absolute value of the input. \n",
    "\n",
    " The main difference between the softsign function and the tanh function is that unlike the tanh function that converges exponentially, the softsign function converges in a polynomial form. "
   ]
  },
  {
   "attachments": {},
   "cell_type": "markdown",
   "metadata": {},
   "source": [
    "###### 5. Rectified Linear Unit (ReLU) Function \n",
    "One of the most popular AFs in DL models, the rectified linear unit (ReLU) function, is a fast-learning AF that promises to deliver state-of-the-art performance with stellar results. Compared to other AFs like the sigmoid and tanh functions, the ReLU function offers much better performance and generalization in deep learning. The function is a nearly linear function that retains the properties of linear models, which makes them easy to optimize with gradient-descent methods. \n",
    "\n",
    "The ReLU function performs a threshold operation on each input element where all values less than zero are set to zero. Thus, the ReLU is represented as:\n",
    "\n",
    "<img src=\"https://www.upgrad.com/blog/wp-content/uploads/2020/02/screenshot-arxiv.org-2020.02.13-16_51_50.png\">\n",
    "\n",
    "By rectifying the values of the inputs less than zero and setting them to zero, this function eliminates the vanishing gradient problem observed in the earlier types of activation functions (sigmoid and tanh). <br>\n",
    "\n",
    "The most significant advantage of using the ReLU function in computation is that it guarantees faster computation – it does not compute exponentials and divisions, thereby boosting the overall computation speed. Another critical aspect of the ReLU function is that it introduces sparsity in the hidden units by squishing the values between zero to maximum."
   ]
  },
  {
   "attachments": {},
   "cell_type": "markdown",
   "metadata": {},
   "source": [
    "##### 6. Exponential Linear Units (ELUs) Function\n",
    "The exponential linear units (ELUs) function is an AF that is also used to speed up the training of neural networks (just like ReLU function). The biggest advantage of the ELU function is that it can eliminate the vanishing gradient problem by using identity for positive values and by improving the learning characteristics of the model.\n",
    "\n",
    "ELUs have negative values that push the mean unit activation closer to zero, thereby reducing computational complexity and improving the learning speed. The ELU is an excellent alternative to the ReLU – it decreases bias shifts by pushing mean activation towards zero during the training process. \n",
    "\n",
    "The exponential linear unit function is represented as:\n",
    "\n",
    "<img src=\"https://www.upgrad.com/blog/wp-content/uploads/2020/02/screenshot-docs.google.com-2020.02.13-16_53_00-1.png\">\n",
    "\n",
    "The derivative or gradient of the ELU equation is presented as:\n",
    "\n",
    "<img src=\"https://www.upgrad.com/blog/wp-content/uploads/2020/02/screenshot-docs.google.com-2020.02.13-16_53_11.png\">\n",
    "\n",
    "Here “α” equals the ELU hyperparameter that controls the saturation point for negative net inputs, which is usually set to 1.0. However, the ELU function has a limitation – it is not zero-centered.\n",
    "\n",
    "<a href=\"https://www.upgrad.com/blog/types-of-activation-function-in-neural-networks/\">Ref</a>"
   ]
  },
  {
   "cell_type": "code",
   "execution_count": null,
   "metadata": {},
   "outputs": [],
   "source": []
  },
  {
   "cell_type": "markdown",
   "metadata": {},
   "source": [
    "### BatchNorm\n",
    "\n",
    "<img src=\"https://miro.medium.com/max/644/1*jTPViestByum2ZZ3jXcmfw.png\">"
   ]
  },
  {
   "cell_type": "markdown",
   "metadata": {},
   "source": [
    "<a href=\"https://towardsdatascience.com/batch-normalization-explained-algorithm-breakdown-23d2794511c\">Refer</a>"
   ]
  },
  {
   "cell_type": "code",
   "execution_count": null,
   "metadata": {},
   "outputs": [],
   "source": []
  }
 ],
 "metadata": {
  "kernelspec": {
   "display_name": "Python 3",
   "language": "python",
   "name": "python3"
  },
  "language_info": {
   "codemirror_mode": {
    "name": "ipython",
    "version": 3
   },
   "file_extension": ".py",
   "mimetype": "text/x-python",
   "name": "python",
   "nbconvert_exporter": "python",
   "pygments_lexer": "ipython3",
   "version": "3.6.8"
  }
 },
 "nbformat": 4,
 "nbformat_minor": 2
}
